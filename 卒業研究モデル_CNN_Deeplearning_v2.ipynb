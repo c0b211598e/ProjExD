{
  "cells": [
    {
      "cell_type": "markdown",
      "metadata": {
        "id": "view-in-github",
        "colab_type": "text"
      },
      "source": [
        "<a href=\"https://colab.research.google.com/github/c0b211598e/ProjExD/blob/main/%E5%8D%92%E6%A5%AD%E7%A0%94%E7%A9%B6%E3%83%A2%E3%83%87%E3%83%AB_CNN_Deeplearning_v2.ipynb\" target=\"_parent\"><img src=\"https://colab.research.google.com/assets/colab-badge.svg\" alt=\"Open In Colab\"/></a>"
      ]
    },
    {
      "cell_type": "code",
      "execution_count": null,
      "metadata": {
        "colab": {
          "base_uri": "https://localhost:8080/"
        },
        "id": "Q_rwX619h3FE",
        "outputId": "0b9e88bb-e934-4d67-d942-70dd3f4fc3d5"
      },
      "outputs": [
        {
          "output_type": "stream",
          "name": "stdout",
          "text": [
            "Drive already mounted at /content/drive; to attempt to forcibly remount, call drive.mount(\"/content/drive\", force_remount=True).\n"
          ]
        }
      ],
      "source": [
        "from google.colab import drive\n",
        "drive.mount('/content/drive')"
      ]
    },
    {
      "cell_type": "code",
      "execution_count": null,
      "metadata": {
        "id": "db5E9q727N4p"
      },
      "outputs": [],
      "source": [
        "import os\n",
        "import pandas as pd\n",
        "import numpy as np\n",
        "%matplotlib inline\n",
        "import matplotlib.pyplot as plt\n",
        "import seaborn as sns\n",
        "import gc\n",
        "from tqdm import tqdm\n",
        "from sklearn.preprocessing import StandardScaler\n",
        "from sklearn.metrics import classification_report"
      ]
    },
    {
      "cell_type": "code",
      "execution_count": null,
      "metadata": {
        "id": "CZ4YyVXOlzI6"
      },
      "outputs": [],
      "source": [
        "standardized_df = pd.read_pickle('/content/drive/MyDrive/deep-orderbook-master/l2_snapshots/l2_snapshots_60s_2024-03_to_2024-06')"
      ]
    },
    {
      "cell_type": "code",
      "execution_count": null,
      "metadata": {
        "colab": {
          "base_uri": "https://localhost:8080/",
          "height": 822
        },
        "id": "QLgYcY06tF6g",
        "outputId": "ada876fb-205f-4c66-9543-09dce99cf510"
      },
      "outputs": [
        {
          "output_type": "execute_result",
          "data": {
            "text/plain": [
              "                           b1        b2        b3        b4        b5  \\\n",
              "timestamp                                                               \n",
              "2024-03-02 00:00:00  2.349420  2.356634  2.359753  2.365090  2.369223   \n",
              "2024-03-02 00:01:00  2.628395  2.635565  2.638577  2.643855  2.641477   \n",
              "2024-03-02 00:02:00  2.232640  2.207439  2.217098  2.215984  2.220132   \n",
              "2024-03-02 00:03:00  2.148299  2.155545  2.165224  2.154396  2.145587   \n",
              "2024-03-02 00:04:00  2.307249  2.304740  2.314362  2.319710  2.323848   \n",
              "...                       ...       ...       ...       ...       ...   \n",
              "2024-06-30 23:55:00  1.918522  1.920952  1.924482  1.919918  1.921661   \n",
              "2024-06-30 23:56:00  1.918522  1.920097  1.916782  1.919062  1.915670   \n",
              "2024-06-30 23:57:00  1.813392  1.814930  1.816693  1.818949  1.820673   \n",
              "2024-06-30 23:58:00  1.844162  1.845710  1.847489  1.849753  1.851483   \n",
              "2024-06-30 23:59:00  1.791170  1.793554  1.797017  1.799269  1.797566   \n",
              "\n",
              "                           b6        b7        b8        b9       b10  ...  \\\n",
              "timestamp                                                              ...   \n",
              "2024-03-02 00:00:00  2.372290  2.374749  2.376689  2.375039  2.376380  ...   \n",
              "2024-03-02 00:01:00  2.644503  2.646933  2.648846  2.650410  2.651730  ...   \n",
              "2024-03-02 00:02:00  2.223220  2.225696  2.227651  2.229255  2.227367  ...   \n",
              "2024-03-02 00:03:00  2.148686  2.151170  2.153132  2.151503  2.152860  ...   \n",
              "2024-03-02 00:04:00  2.326921  2.316424  2.315130  2.313486  2.314831  ...   \n",
              "...                       ...       ...       ...       ...       ...  ...   \n",
              "2024-06-30 23:55:00  1.922374  1.921211  1.921642  1.922823  1.919649  ...   \n",
              "2024-06-30 23:56:00  1.917238  1.918643  1.919930  1.917686  1.917081  ...   \n",
              "2024-06-30 23:57:00  1.821370  1.820196  1.820619  1.821794  1.822895  ...   \n",
              "2024-06-30 23:58:00  1.846193  1.845878  1.847159  1.848335  1.842588  ...   \n",
              "2024-06-30 23:59:00  1.798259  1.799651  1.795791  1.796964  1.796352  ...   \n",
              "\n",
              "                         aq16      aq17      aq18      aq19      aq20  \\\n",
              "timestamp                                                               \n",
              "2024-03-02 00:00:00 -0.481643 -0.590413 -0.045641  0.101911 -0.337582   \n",
              "2024-03-02 00:01:00 -0.577280 -0.144690 -0.055908  0.101911 -0.488143   \n",
              "2024-03-02 00:02:00 -0.410801 -0.555317  0.050183  0.539960  0.657431   \n",
              "2024-03-02 00:03:00  0.046131 -0.716760 -0.302312 -0.282636 -0.488143   \n",
              "2024-03-02 00:04:00  1.268158 -0.590413  0.987890 -0.734061 -0.550332   \n",
              "...                       ...       ...       ...       ...       ...   \n",
              "2024-06-30 23:55:00 -0.831557  0.128666 -0.859545  0.742961 -0.877799   \n",
              "2024-06-30 23:56:00  0.710609  1.709714 -0.606873  1.146536  0.259784   \n",
              "2024-06-30 23:57:00  0.347418 -0.347048 -0.044475 -0.518546 -0.414829   \n",
              "2024-06-30 23:58:00 -0.183400 -0.053225 -0.696531 -0.852631 -0.864572   \n",
              "2024-06-30 23:59:00  0.344624 -0.053225  1.406349 -0.825904  1.587847   \n",
              "\n",
              "                         aq21      aq22      aq23      aq24      aq25  \n",
              "timestamp                                                              \n",
              "2024-03-02 00:00:00  0.117606  0.912176  0.097624 -0.565089 -0.591576  \n",
              "2024-03-02 00:01:00 -0.593829 -0.726574 -0.101450  0.299648 -0.588591  \n",
              "2024-03-02 00:02:00 -0.597063 -0.720259 -0.599134 -0.259528 -0.310971  \n",
              "2024-03-02 00:03:00 -0.597063 -0.726574 -0.232092 -0.082303  0.032323  \n",
              "2024-03-02 00:04:00 -0.493582 -0.259262  0.050966 -0.439809 -0.436348  \n",
              "...                       ...       ...       ...       ...       ...  \n",
              "2024-06-30 23:55:00  1.722494 -0.144780  0.236347  1.085277 -0.045299  \n",
              "2024-06-30 23:56:00 -0.872811  1.815915  3.424879 -0.874765 -0.459835  \n",
              "2024-06-30 23:57:00 -0.551610 -0.144780 -0.699912 -0.841783 -0.183478  \n",
              "2024-06-30 23:58:00 -0.872811 -0.544922 -0.157742  0.682432  0.576504  \n",
              "2024-06-30 23:59:00  1.347331  2.636206  1.549974 -0.462496 -0.183478  \n",
              "\n",
              "[174240 rows x 100 columns]"
            ],
            "text/html": [
              "\n",
              "  <div id=\"df-092dd30f-3ffa-43df-a6d6-1abdc207437d\" class=\"colab-df-container\">\n",
              "    <div>\n",
              "<style scoped>\n",
              "    .dataframe tbody tr th:only-of-type {\n",
              "        vertical-align: middle;\n",
              "    }\n",
              "\n",
              "    .dataframe tbody tr th {\n",
              "        vertical-align: top;\n",
              "    }\n",
              "\n",
              "    .dataframe thead th {\n",
              "        text-align: right;\n",
              "    }\n",
              "</style>\n",
              "<table border=\"1\" class=\"dataframe\">\n",
              "  <thead>\n",
              "    <tr style=\"text-align: right;\">\n",
              "      <th></th>\n",
              "      <th>b1</th>\n",
              "      <th>b2</th>\n",
              "      <th>b3</th>\n",
              "      <th>b4</th>\n",
              "      <th>b5</th>\n",
              "      <th>b6</th>\n",
              "      <th>b7</th>\n",
              "      <th>b8</th>\n",
              "      <th>b9</th>\n",
              "      <th>b10</th>\n",
              "      <th>...</th>\n",
              "      <th>aq16</th>\n",
              "      <th>aq17</th>\n",
              "      <th>aq18</th>\n",
              "      <th>aq19</th>\n",
              "      <th>aq20</th>\n",
              "      <th>aq21</th>\n",
              "      <th>aq22</th>\n",
              "      <th>aq23</th>\n",
              "      <th>aq24</th>\n",
              "      <th>aq25</th>\n",
              "    </tr>\n",
              "    <tr>\n",
              "      <th>timestamp</th>\n",
              "      <th></th>\n",
              "      <th></th>\n",
              "      <th></th>\n",
              "      <th></th>\n",
              "      <th></th>\n",
              "      <th></th>\n",
              "      <th></th>\n",
              "      <th></th>\n",
              "      <th></th>\n",
              "      <th></th>\n",
              "      <th></th>\n",
              "      <th></th>\n",
              "      <th></th>\n",
              "      <th></th>\n",
              "      <th></th>\n",
              "      <th></th>\n",
              "      <th></th>\n",
              "      <th></th>\n",
              "      <th></th>\n",
              "      <th></th>\n",
              "      <th></th>\n",
              "    </tr>\n",
              "  </thead>\n",
              "  <tbody>\n",
              "    <tr>\n",
              "      <th>2024-03-02 00:00:00</th>\n",
              "      <td>2.349420</td>\n",
              "      <td>2.356634</td>\n",
              "      <td>2.359753</td>\n",
              "      <td>2.365090</td>\n",
              "      <td>2.369223</td>\n",
              "      <td>2.372290</td>\n",
              "      <td>2.374749</td>\n",
              "      <td>2.376689</td>\n",
              "      <td>2.375039</td>\n",
              "      <td>2.376380</td>\n",
              "      <td>...</td>\n",
              "      <td>-0.481643</td>\n",
              "      <td>-0.590413</td>\n",
              "      <td>-0.045641</td>\n",
              "      <td>0.101911</td>\n",
              "      <td>-0.337582</td>\n",
              "      <td>0.117606</td>\n",
              "      <td>0.912176</td>\n",
              "      <td>0.097624</td>\n",
              "      <td>-0.565089</td>\n",
              "      <td>-0.591576</td>\n",
              "    </tr>\n",
              "    <tr>\n",
              "      <th>2024-03-02 00:01:00</th>\n",
              "      <td>2.628395</td>\n",
              "      <td>2.635565</td>\n",
              "      <td>2.638577</td>\n",
              "      <td>2.643855</td>\n",
              "      <td>2.641477</td>\n",
              "      <td>2.644503</td>\n",
              "      <td>2.646933</td>\n",
              "      <td>2.648846</td>\n",
              "      <td>2.650410</td>\n",
              "      <td>2.651730</td>\n",
              "      <td>...</td>\n",
              "      <td>-0.577280</td>\n",
              "      <td>-0.144690</td>\n",
              "      <td>-0.055908</td>\n",
              "      <td>0.101911</td>\n",
              "      <td>-0.488143</td>\n",
              "      <td>-0.593829</td>\n",
              "      <td>-0.726574</td>\n",
              "      <td>-0.101450</td>\n",
              "      <td>0.299648</td>\n",
              "      <td>-0.588591</td>\n",
              "    </tr>\n",
              "    <tr>\n",
              "      <th>2024-03-02 00:02:00</th>\n",
              "      <td>2.232640</td>\n",
              "      <td>2.207439</td>\n",
              "      <td>2.217098</td>\n",
              "      <td>2.215984</td>\n",
              "      <td>2.220132</td>\n",
              "      <td>2.223220</td>\n",
              "      <td>2.225696</td>\n",
              "      <td>2.227651</td>\n",
              "      <td>2.229255</td>\n",
              "      <td>2.227367</td>\n",
              "      <td>...</td>\n",
              "      <td>-0.410801</td>\n",
              "      <td>-0.555317</td>\n",
              "      <td>0.050183</td>\n",
              "      <td>0.539960</td>\n",
              "      <td>0.657431</td>\n",
              "      <td>-0.597063</td>\n",
              "      <td>-0.720259</td>\n",
              "      <td>-0.599134</td>\n",
              "      <td>-0.259528</td>\n",
              "      <td>-0.310971</td>\n",
              "    </tr>\n",
              "    <tr>\n",
              "      <th>2024-03-02 00:03:00</th>\n",
              "      <td>2.148299</td>\n",
              "      <td>2.155545</td>\n",
              "      <td>2.165224</td>\n",
              "      <td>2.154396</td>\n",
              "      <td>2.145587</td>\n",
              "      <td>2.148686</td>\n",
              "      <td>2.151170</td>\n",
              "      <td>2.153132</td>\n",
              "      <td>2.151503</td>\n",
              "      <td>2.152860</td>\n",
              "      <td>...</td>\n",
              "      <td>0.046131</td>\n",
              "      <td>-0.716760</td>\n",
              "      <td>-0.302312</td>\n",
              "      <td>-0.282636</td>\n",
              "      <td>-0.488143</td>\n",
              "      <td>-0.597063</td>\n",
              "      <td>-0.726574</td>\n",
              "      <td>-0.232092</td>\n",
              "      <td>-0.082303</td>\n",
              "      <td>0.032323</td>\n",
              "    </tr>\n",
              "    <tr>\n",
              "      <th>2024-03-02 00:04:00</th>\n",
              "      <td>2.307249</td>\n",
              "      <td>2.304740</td>\n",
              "      <td>2.314362</td>\n",
              "      <td>2.319710</td>\n",
              "      <td>2.323848</td>\n",
              "      <td>2.326921</td>\n",
              "      <td>2.316424</td>\n",
              "      <td>2.315130</td>\n",
              "      <td>2.313486</td>\n",
              "      <td>2.314831</td>\n",
              "      <td>...</td>\n",
              "      <td>1.268158</td>\n",
              "      <td>-0.590413</td>\n",
              "      <td>0.987890</td>\n",
              "      <td>-0.734061</td>\n",
              "      <td>-0.550332</td>\n",
              "      <td>-0.493582</td>\n",
              "      <td>-0.259262</td>\n",
              "      <td>0.050966</td>\n",
              "      <td>-0.439809</td>\n",
              "      <td>-0.436348</td>\n",
              "    </tr>\n",
              "    <tr>\n",
              "      <th>...</th>\n",
              "      <td>...</td>\n",
              "      <td>...</td>\n",
              "      <td>...</td>\n",
              "      <td>...</td>\n",
              "      <td>...</td>\n",
              "      <td>...</td>\n",
              "      <td>...</td>\n",
              "      <td>...</td>\n",
              "      <td>...</td>\n",
              "      <td>...</td>\n",
              "      <td>...</td>\n",
              "      <td>...</td>\n",
              "      <td>...</td>\n",
              "      <td>...</td>\n",
              "      <td>...</td>\n",
              "      <td>...</td>\n",
              "      <td>...</td>\n",
              "      <td>...</td>\n",
              "      <td>...</td>\n",
              "      <td>...</td>\n",
              "      <td>...</td>\n",
              "    </tr>\n",
              "    <tr>\n",
              "      <th>2024-06-30 23:55:00</th>\n",
              "      <td>1.918522</td>\n",
              "      <td>1.920952</td>\n",
              "      <td>1.924482</td>\n",
              "      <td>1.919918</td>\n",
              "      <td>1.921661</td>\n",
              "      <td>1.922374</td>\n",
              "      <td>1.921211</td>\n",
              "      <td>1.921642</td>\n",
              "      <td>1.922823</td>\n",
              "      <td>1.919649</td>\n",
              "      <td>...</td>\n",
              "      <td>-0.831557</td>\n",
              "      <td>0.128666</td>\n",
              "      <td>-0.859545</td>\n",
              "      <td>0.742961</td>\n",
              "      <td>-0.877799</td>\n",
              "      <td>1.722494</td>\n",
              "      <td>-0.144780</td>\n",
              "      <td>0.236347</td>\n",
              "      <td>1.085277</td>\n",
              "      <td>-0.045299</td>\n",
              "    </tr>\n",
              "    <tr>\n",
              "      <th>2024-06-30 23:56:00</th>\n",
              "      <td>1.918522</td>\n",
              "      <td>1.920097</td>\n",
              "      <td>1.916782</td>\n",
              "      <td>1.919062</td>\n",
              "      <td>1.915670</td>\n",
              "      <td>1.917238</td>\n",
              "      <td>1.918643</td>\n",
              "      <td>1.919930</td>\n",
              "      <td>1.917686</td>\n",
              "      <td>1.917081</td>\n",
              "      <td>...</td>\n",
              "      <td>0.710609</td>\n",
              "      <td>1.709714</td>\n",
              "      <td>-0.606873</td>\n",
              "      <td>1.146536</td>\n",
              "      <td>0.259784</td>\n",
              "      <td>-0.872811</td>\n",
              "      <td>1.815915</td>\n",
              "      <td>3.424879</td>\n",
              "      <td>-0.874765</td>\n",
              "      <td>-0.459835</td>\n",
              "    </tr>\n",
              "    <tr>\n",
              "      <th>2024-06-30 23:57:00</th>\n",
              "      <td>1.813392</td>\n",
              "      <td>1.814930</td>\n",
              "      <td>1.816693</td>\n",
              "      <td>1.818949</td>\n",
              "      <td>1.820673</td>\n",
              "      <td>1.821370</td>\n",
              "      <td>1.820196</td>\n",
              "      <td>1.820619</td>\n",
              "      <td>1.821794</td>\n",
              "      <td>1.822895</td>\n",
              "      <td>...</td>\n",
              "      <td>0.347418</td>\n",
              "      <td>-0.347048</td>\n",
              "      <td>-0.044475</td>\n",
              "      <td>-0.518546</td>\n",
              "      <td>-0.414829</td>\n",
              "      <td>-0.551610</td>\n",
              "      <td>-0.144780</td>\n",
              "      <td>-0.699912</td>\n",
              "      <td>-0.841783</td>\n",
              "      <td>-0.183478</td>\n",
              "    </tr>\n",
              "    <tr>\n",
              "      <th>2024-06-30 23:58:00</th>\n",
              "      <td>1.844162</td>\n",
              "      <td>1.845710</td>\n",
              "      <td>1.847489</td>\n",
              "      <td>1.849753</td>\n",
              "      <td>1.851483</td>\n",
              "      <td>1.846193</td>\n",
              "      <td>1.845878</td>\n",
              "      <td>1.847159</td>\n",
              "      <td>1.848335</td>\n",
              "      <td>1.842588</td>\n",
              "      <td>...</td>\n",
              "      <td>-0.183400</td>\n",
              "      <td>-0.053225</td>\n",
              "      <td>-0.696531</td>\n",
              "      <td>-0.852631</td>\n",
              "      <td>-0.864572</td>\n",
              "      <td>-0.872811</td>\n",
              "      <td>-0.544922</td>\n",
              "      <td>-0.157742</td>\n",
              "      <td>0.682432</td>\n",
              "      <td>0.576504</td>\n",
              "    </tr>\n",
              "    <tr>\n",
              "      <th>2024-06-30 23:59:00</th>\n",
              "      <td>1.791170</td>\n",
              "      <td>1.793554</td>\n",
              "      <td>1.797017</td>\n",
              "      <td>1.799269</td>\n",
              "      <td>1.797566</td>\n",
              "      <td>1.798259</td>\n",
              "      <td>1.799651</td>\n",
              "      <td>1.795791</td>\n",
              "      <td>1.796964</td>\n",
              "      <td>1.796352</td>\n",
              "      <td>...</td>\n",
              "      <td>0.344624</td>\n",
              "      <td>-0.053225</td>\n",
              "      <td>1.406349</td>\n",
              "      <td>-0.825904</td>\n",
              "      <td>1.587847</td>\n",
              "      <td>1.347331</td>\n",
              "      <td>2.636206</td>\n",
              "      <td>1.549974</td>\n",
              "      <td>-0.462496</td>\n",
              "      <td>-0.183478</td>\n",
              "    </tr>\n",
              "  </tbody>\n",
              "</table>\n",
              "<p>174240 rows × 100 columns</p>\n",
              "</div>\n",
              "    <div class=\"colab-df-buttons\">\n",
              "\n",
              "  <div class=\"colab-df-container\">\n",
              "    <button class=\"colab-df-convert\" onclick=\"convertToInteractive('df-092dd30f-3ffa-43df-a6d6-1abdc207437d')\"\n",
              "            title=\"Convert this dataframe to an interactive table.\"\n",
              "            style=\"display:none;\">\n",
              "\n",
              "  <svg xmlns=\"http://www.w3.org/2000/svg\" height=\"24px\" viewBox=\"0 -960 960 960\">\n",
              "    <path d=\"M120-120v-720h720v720H120Zm60-500h600v-160H180v160Zm220 220h160v-160H400v160Zm0 220h160v-160H400v160ZM180-400h160v-160H180v160Zm440 0h160v-160H620v160ZM180-180h160v-160H180v160Zm440 0h160v-160H620v160Z\"/>\n",
              "  </svg>\n",
              "    </button>\n",
              "\n",
              "  <style>\n",
              "    .colab-df-container {\n",
              "      display:flex;\n",
              "      gap: 12px;\n",
              "    }\n",
              "\n",
              "    .colab-df-convert {\n",
              "      background-color: #E8F0FE;\n",
              "      border: none;\n",
              "      border-radius: 50%;\n",
              "      cursor: pointer;\n",
              "      display: none;\n",
              "      fill: #1967D2;\n",
              "      height: 32px;\n",
              "      padding: 0 0 0 0;\n",
              "      width: 32px;\n",
              "    }\n",
              "\n",
              "    .colab-df-convert:hover {\n",
              "      background-color: #E2EBFA;\n",
              "      box-shadow: 0px 1px 2px rgba(60, 64, 67, 0.3), 0px 1px 3px 1px rgba(60, 64, 67, 0.15);\n",
              "      fill: #174EA6;\n",
              "    }\n",
              "\n",
              "    .colab-df-buttons div {\n",
              "      margin-bottom: 4px;\n",
              "    }\n",
              "\n",
              "    [theme=dark] .colab-df-convert {\n",
              "      background-color: #3B4455;\n",
              "      fill: #D2E3FC;\n",
              "    }\n",
              "\n",
              "    [theme=dark] .colab-df-convert:hover {\n",
              "      background-color: #434B5C;\n",
              "      box-shadow: 0px 1px 3px 1px rgba(0, 0, 0, 0.15);\n",
              "      filter: drop-shadow(0px 1px 2px rgba(0, 0, 0, 0.3));\n",
              "      fill: #FFFFFF;\n",
              "    }\n",
              "  </style>\n",
              "\n",
              "    <script>\n",
              "      const buttonEl =\n",
              "        document.querySelector('#df-092dd30f-3ffa-43df-a6d6-1abdc207437d button.colab-df-convert');\n",
              "      buttonEl.style.display =\n",
              "        google.colab.kernel.accessAllowed ? 'block' : 'none';\n",
              "\n",
              "      async function convertToInteractive(key) {\n",
              "        const element = document.querySelector('#df-092dd30f-3ffa-43df-a6d6-1abdc207437d');\n",
              "        const dataTable =\n",
              "          await google.colab.kernel.invokeFunction('convertToInteractive',\n",
              "                                                    [key], {});\n",
              "        if (!dataTable) return;\n",
              "\n",
              "        const docLinkHtml = 'Like what you see? Visit the ' +\n",
              "          '<a target=\"_blank\" href=https://colab.research.google.com/notebooks/data_table.ipynb>data table notebook</a>'\n",
              "          + ' to learn more about interactive tables.';\n",
              "        element.innerHTML = '';\n",
              "        dataTable['output_type'] = 'display_data';\n",
              "        await google.colab.output.renderOutput(dataTable, element);\n",
              "        const docLink = document.createElement('div');\n",
              "        docLink.innerHTML = docLinkHtml;\n",
              "        element.appendChild(docLink);\n",
              "      }\n",
              "    </script>\n",
              "  </div>\n",
              "\n",
              "\n",
              "<div id=\"df-b5e9b980-52a0-4a22-a8ad-52c5626f7c1b\">\n",
              "  <button class=\"colab-df-quickchart\" onclick=\"quickchart('df-b5e9b980-52a0-4a22-a8ad-52c5626f7c1b')\"\n",
              "            title=\"Suggest charts\"\n",
              "            style=\"display:none;\">\n",
              "\n",
              "<svg xmlns=\"http://www.w3.org/2000/svg\" height=\"24px\"viewBox=\"0 0 24 24\"\n",
              "     width=\"24px\">\n",
              "    <g>\n",
              "        <path d=\"M19 3H5c-1.1 0-2 .9-2 2v14c0 1.1.9 2 2 2h14c1.1 0 2-.9 2-2V5c0-1.1-.9-2-2-2zM9 17H7v-7h2v7zm4 0h-2V7h2v10zm4 0h-2v-4h2v4z\"/>\n",
              "    </g>\n",
              "</svg>\n",
              "  </button>\n",
              "\n",
              "<style>\n",
              "  .colab-df-quickchart {\n",
              "      --bg-color: #E8F0FE;\n",
              "      --fill-color: #1967D2;\n",
              "      --hover-bg-color: #E2EBFA;\n",
              "      --hover-fill-color: #174EA6;\n",
              "      --disabled-fill-color: #AAA;\n",
              "      --disabled-bg-color: #DDD;\n",
              "  }\n",
              "\n",
              "  [theme=dark] .colab-df-quickchart {\n",
              "      --bg-color: #3B4455;\n",
              "      --fill-color: #D2E3FC;\n",
              "      --hover-bg-color: #434B5C;\n",
              "      --hover-fill-color: #FFFFFF;\n",
              "      --disabled-bg-color: #3B4455;\n",
              "      --disabled-fill-color: #666;\n",
              "  }\n",
              "\n",
              "  .colab-df-quickchart {\n",
              "    background-color: var(--bg-color);\n",
              "    border: none;\n",
              "    border-radius: 50%;\n",
              "    cursor: pointer;\n",
              "    display: none;\n",
              "    fill: var(--fill-color);\n",
              "    height: 32px;\n",
              "    padding: 0;\n",
              "    width: 32px;\n",
              "  }\n",
              "\n",
              "  .colab-df-quickchart:hover {\n",
              "    background-color: var(--hover-bg-color);\n",
              "    box-shadow: 0 1px 2px rgba(60, 64, 67, 0.3), 0 1px 3px 1px rgba(60, 64, 67, 0.15);\n",
              "    fill: var(--button-hover-fill-color);\n",
              "  }\n",
              "\n",
              "  .colab-df-quickchart-complete:disabled,\n",
              "  .colab-df-quickchart-complete:disabled:hover {\n",
              "    background-color: var(--disabled-bg-color);\n",
              "    fill: var(--disabled-fill-color);\n",
              "    box-shadow: none;\n",
              "  }\n",
              "\n",
              "  .colab-df-spinner {\n",
              "    border: 2px solid var(--fill-color);\n",
              "    border-color: transparent;\n",
              "    border-bottom-color: var(--fill-color);\n",
              "    animation:\n",
              "      spin 1s steps(1) infinite;\n",
              "  }\n",
              "\n",
              "  @keyframes spin {\n",
              "    0% {\n",
              "      border-color: transparent;\n",
              "      border-bottom-color: var(--fill-color);\n",
              "      border-left-color: var(--fill-color);\n",
              "    }\n",
              "    20% {\n",
              "      border-color: transparent;\n",
              "      border-left-color: var(--fill-color);\n",
              "      border-top-color: var(--fill-color);\n",
              "    }\n",
              "    30% {\n",
              "      border-color: transparent;\n",
              "      border-left-color: var(--fill-color);\n",
              "      border-top-color: var(--fill-color);\n",
              "      border-right-color: var(--fill-color);\n",
              "    }\n",
              "    40% {\n",
              "      border-color: transparent;\n",
              "      border-right-color: var(--fill-color);\n",
              "      border-top-color: var(--fill-color);\n",
              "    }\n",
              "    60% {\n",
              "      border-color: transparent;\n",
              "      border-right-color: var(--fill-color);\n",
              "    }\n",
              "    80% {\n",
              "      border-color: transparent;\n",
              "      border-right-color: var(--fill-color);\n",
              "      border-bottom-color: var(--fill-color);\n",
              "    }\n",
              "    90% {\n",
              "      border-color: transparent;\n",
              "      border-bottom-color: var(--fill-color);\n",
              "    }\n",
              "  }\n",
              "</style>\n",
              "\n",
              "  <script>\n",
              "    async function quickchart(key) {\n",
              "      const quickchartButtonEl =\n",
              "        document.querySelector('#' + key + ' button');\n",
              "      quickchartButtonEl.disabled = true;  // To prevent multiple clicks.\n",
              "      quickchartButtonEl.classList.add('colab-df-spinner');\n",
              "      try {\n",
              "        const charts = await google.colab.kernel.invokeFunction(\n",
              "            'suggestCharts', [key], {});\n",
              "      } catch (error) {\n",
              "        console.error('Error during call to suggestCharts:', error);\n",
              "      }\n",
              "      quickchartButtonEl.classList.remove('colab-df-spinner');\n",
              "      quickchartButtonEl.classList.add('colab-df-quickchart-complete');\n",
              "    }\n",
              "    (() => {\n",
              "      let quickchartButtonEl =\n",
              "        document.querySelector('#df-b5e9b980-52a0-4a22-a8ad-52c5626f7c1b button');\n",
              "      quickchartButtonEl.style.display =\n",
              "        google.colab.kernel.accessAllowed ? 'block' : 'none';\n",
              "    })();\n",
              "  </script>\n",
              "</div>\n",
              "\n",
              "  <div id=\"id_012ad09f-2c25-40a1-b779-e039a32ff2cc\">\n",
              "    <style>\n",
              "      .colab-df-generate {\n",
              "        background-color: #E8F0FE;\n",
              "        border: none;\n",
              "        border-radius: 50%;\n",
              "        cursor: pointer;\n",
              "        display: none;\n",
              "        fill: #1967D2;\n",
              "        height: 32px;\n",
              "        padding: 0 0 0 0;\n",
              "        width: 32px;\n",
              "      }\n",
              "\n",
              "      .colab-df-generate:hover {\n",
              "        background-color: #E2EBFA;\n",
              "        box-shadow: 0px 1px 2px rgba(60, 64, 67, 0.3), 0px 1px 3px 1px rgba(60, 64, 67, 0.15);\n",
              "        fill: #174EA6;\n",
              "      }\n",
              "\n",
              "      [theme=dark] .colab-df-generate {\n",
              "        background-color: #3B4455;\n",
              "        fill: #D2E3FC;\n",
              "      }\n",
              "\n",
              "      [theme=dark] .colab-df-generate:hover {\n",
              "        background-color: #434B5C;\n",
              "        box-shadow: 0px 1px 3px 1px rgba(0, 0, 0, 0.15);\n",
              "        filter: drop-shadow(0px 1px 2px rgba(0, 0, 0, 0.3));\n",
              "        fill: #FFFFFF;\n",
              "      }\n",
              "    </style>\n",
              "    <button class=\"colab-df-generate\" onclick=\"generateWithVariable('standardized_df')\"\n",
              "            title=\"Generate code using this dataframe.\"\n",
              "            style=\"display:none;\">\n",
              "\n",
              "  <svg xmlns=\"http://www.w3.org/2000/svg\" height=\"24px\"viewBox=\"0 0 24 24\"\n",
              "       width=\"24px\">\n",
              "    <path d=\"M7,19H8.4L18.45,9,17,7.55,7,17.6ZM5,21V16.75L18.45,3.32a2,2,0,0,1,2.83,0l1.4,1.43a1.91,1.91,0,0,1,.58,1.4,1.91,1.91,0,0,1-.58,1.4L9.25,21ZM18.45,9,17,7.55Zm-12,3A5.31,5.31,0,0,0,4.9,8.1,5.31,5.31,0,0,0,1,6.5,5.31,5.31,0,0,0,4.9,4.9,5.31,5.31,0,0,0,6.5,1,5.31,5.31,0,0,0,8.1,4.9,5.31,5.31,0,0,0,12,6.5,5.46,5.46,0,0,0,6.5,12Z\"/>\n",
              "  </svg>\n",
              "    </button>\n",
              "    <script>\n",
              "      (() => {\n",
              "      const buttonEl =\n",
              "        document.querySelector('#id_012ad09f-2c25-40a1-b779-e039a32ff2cc button.colab-df-generate');\n",
              "      buttonEl.style.display =\n",
              "        google.colab.kernel.accessAllowed ? 'block' : 'none';\n",
              "\n",
              "      buttonEl.onclick = () => {\n",
              "        google.colab.notebook.generateWithVariable('standardized_df');\n",
              "      }\n",
              "      })();\n",
              "    </script>\n",
              "  </div>\n",
              "\n",
              "    </div>\n",
              "  </div>\n"
            ],
            "application/vnd.google.colaboratory.intrinsic+json": {
              "type": "dataframe",
              "variable_name": "standardized_df"
            }
          },
          "metadata": {},
          "execution_count": 70
        }
      ],
      "source": [
        "standardized_df"
      ]
    },
    {
      "cell_type": "code",
      "execution_count": null,
      "metadata": {
        "id": "iYJAIOXk7N4q"
      },
      "outputs": [],
      "source": [
        "l2_snapshot_ = standardized_df[['b1','b2','b3','b4','b5','b6','b7','b8', 'b9', 'b10', 'a1','a2','a3','a4','a5','a6','a7','a8', 'a9', 'a10', 'bq1','bq2','bq3','bq4','bq5','bq6','bq7','bq8', 'bq9', 'bq10', 'aq1','aq2','aq3','aq4','aq5','aq6','aq7','aq8', 'aq9', 'aq10']]"
      ]
    },
    {
      "cell_type": "code",
      "execution_count": null,
      "metadata": {
        "id": "zakpvfVd7N4q"
      },
      "outputs": [],
      "source": [
        "def generate_features_labels(df,ask, bid,k=20, alpha = 10e-5):\n",
        "    df_ = df.copy()\n",
        "    df_['mid_price'] = (df_[ask].to_numpy()+df_[bid].to_numpy())/2\n",
        "    df_['target'] = 1\n",
        "    index = df_.columns.get_loc('mid_price')\n",
        "    target_index = df_.columns.get_loc('target')\n",
        "    shape = df_.shape[0]\n",
        "    y = df_['target'].to_numpy()\n",
        "    for i in tqdm(range(k,shape-k)):\n",
        "        if i==k:\n",
        "            m_b = np.mean(df_.iloc[(i-k):i, index].to_numpy())\n",
        "            m_a = np.mean(df_.iloc[i+1:(i+k+1), index].to_numpy())\n",
        "            val = df_.iloc[i-k,index]\n",
        "            valB = df_.iloc[i+1, index]\n",
        "        else:\n",
        "            curr_val = df_.iloc[i-1,index]\n",
        "            curr_valB = df_.iloc[i+k, index]\n",
        "            m_b = (m_b*k+(curr_val)-(val))/k\n",
        "            m_a = (m_a*k+(curr_valB - valB))/k\n",
        "            val = df_.iloc[(i-k),index]\n",
        "            valB = df_.iloc[(i+1), index]\n",
        "\n",
        "        if (m_b > m_a*(1+alpha)):\n",
        "            y[i] = 2\n",
        "        if (m_b < m_a*(1-alpha)):\n",
        "            y[i] = 0\n",
        "\n",
        "    y = y[k:shape-k]\n",
        "    X = df.iloc[k:shape-k,:].to_numpy()\n",
        "    return X,y"
      ]
    },
    {
      "cell_type": "code",
      "execution_count": null,
      "metadata": {
        "colab": {
          "base_uri": "https://localhost:8080/"
        },
        "id": "vDC2SKrC7N4q",
        "outputId": "0b00c3ca-484f-4f4f-fdc6-e64ad7f774cf"
      },
      "outputs": [
        {
          "output_type": "stream",
          "name": "stderr",
          "text": [
            "100%|██████████| 174200/174200 [00:14<00:00, 12199.91it/s]\n",
            "100%|██████████| 174200/174200 [00:14<00:00, 12235.44it/s]\n",
            "100%|██████████| 174200/174200 [00:14<00:00, 12099.32it/s]\n",
            "100%|██████████| 174200/174200 [00:14<00:00, 12066.67it/s]\n",
            "100%|██████████| 174200/174200 [00:14<00:00, 12018.44it/s]\n",
            "100%|██████████| 174200/174200 [00:14<00:00, 12218.00it/s]\n",
            "100%|██████████| 174200/174200 [00:14<00:00, 12272.77it/s]\n",
            "100%|██████████| 174200/174200 [00:14<00:00, 12214.47it/s]\n",
            "100%|██████████| 174200/174200 [00:14<00:00, 12395.56it/s]\n",
            "100%|██████████| 174200/174200 [00:14<00:00, 12110.27it/s]"
          ]
        },
        {
          "output_type": "stream",
          "name": "stdout",
          "text": [
            "Best alpha: 0.1291549665014884\n"
          ]
        },
        {
          "output_type": "stream",
          "name": "stderr",
          "text": [
            "\n"
          ]
        }
      ],
      "source": [
        "# GridSearch\n",
        "min_ = float('inf')\n",
        "minI = 0\n",
        "for i in np.logspace(0,-8,10, endpoint = True):\n",
        "    X,y = generate_features_labels(standardized_df, ask='a1', bid = 'b1', alpha=i)\n",
        "    y_ = pd.Series(y)\n",
        "    temp = y_.value_counts()\n",
        "    a,b,c = temp[0], temp[1], temp[2]\n",
        "    sum_ = a+b+c\n",
        "    l2 = ((1/3-(a/sum_))*100)**2 + ((1/3-(b/sum_))*100)**2 + ((1/3-(c/sum_))*100)**2\n",
        "    if l2 < min_:\n",
        "        min_ = l2\n",
        "        minI = i\n",
        "    del X,y,temp\n",
        "\n",
        "# 最終結果の保存\n",
        "best_alpha = minI\n",
        "print(\"Best alpha:\", best_alpha)"
      ]
    },
    {
      "cell_type": "code",
      "source": [
        "temp = y_.value_counts()\n",
        "print(temp)"
      ],
      "metadata": {
        "id": "8wfWR6TmzXdt",
        "outputId": "6a9391c7-7c0a-45e9-ac62-013288d298a9",
        "colab": {
          "base_uri": "https://localhost:8080/"
        }
      },
      "execution_count": null,
      "outputs": [
        {
          "output_type": "stream",
          "name": "stdout",
          "text": [
            "2    87395\n",
            "0    86801\n",
            "1        4\n",
            "Name: count, dtype: int64\n"
          ]
        }
      ]
    },
    {
      "cell_type": "code",
      "execution_count": null,
      "metadata": {
        "colab": {
          "base_uri": "https://localhost:8080/"
        },
        "id": "xgNi8q817N4r",
        "outputId": "61f57406-9b6b-4585-ab80-547d546e3e74"
      },
      "outputs": [
        {
          "output_type": "stream",
          "name": "stdout",
          "text": [
            "0.1291549665014884 425.1747996307432\n"
          ]
        }
      ],
      "source": [
        "print(minI, min_)"
      ]
    },
    {
      "cell_type": "code",
      "execution_count": null,
      "metadata": {
        "colab": {
          "base_uri": "https://localhost:8080/"
        },
        "id": "9CY774i37N4r",
        "outputId": "5ca192aa-1379-445f-fa90-b28f017e54ce"
      },
      "outputs": [
        {
          "output_type": "stream",
          "name": "stderr",
          "text": [
            "100%|██████████| 174200/174200 [00:14<00:00, 11890.49it/s]\n"
          ]
        }
      ],
      "source": [
        "X,y = generate_features_labels(l2_snapshot_, ask='a1', bid = 'b1', alpha=minI)"
      ]
    },
    {
      "cell_type": "code",
      "execution_count": null,
      "metadata": {
        "id": "Yn1HL51g7N4r",
        "scrolled": true
      },
      "outputs": [],
      "source": [
        "y = y.astype('int')"
      ]
    },
    {
      "cell_type": "code",
      "execution_count": null,
      "metadata": {
        "colab": {
          "base_uri": "https://localhost:8080/",
          "height": 448
        },
        "id": "Mw6Mpowa7N4r",
        "outputId": "c6e15dee-559f-48db-a679-4d3f291456e4"
      },
      "outputs": [
        {
          "output_type": "execute_result",
          "data": {
            "text/plain": [
              "<Axes: ylabel='count'>"
            ]
          },
          "metadata": {},
          "execution_count": 78
        },
        {
          "output_type": "display_data",
          "data": {
            "text/plain": [
              "<Figure size 640x480 with 1 Axes>"
            ],
            "image/png": "[encoded data removed]"
          },
          "metadata": {}
        }
      ],
      "source": [
        "sns.countplot(x = y)"
      ]
    },
    {
      "cell_type": "code",
      "execution_count": null,
      "metadata": {
        "id": "OXMWpjoX7N4r"
      },
      "outputs": [],
      "source": [
        "T = 100  #60s*T\n",
        "D = 40\n",
        "N = len(X) - T"
      ]
    },
    {
      "cell_type": "code",
      "execution_count": null,
      "metadata": {
        "id": "GwxPWo5S7N4r"
      },
      "outputs": [],
      "source": [
        "trainPart = int(len(X)*0.7)"
      ]
    },
    {
      "cell_type": "code",
      "execution_count": null,
      "metadata": {
        "id": "ZZFoXwAq7N4r"
      },
      "outputs": [],
      "source": [
        "X_train = np.zeros((trainPart, T, D), dtype = 'float16')\n",
        "y_train = np.zeros(trainPart, dtype = 'float16')\n",
        "\n",
        "#Preparing the time series data using timestep of 100 and no of features = 200\n",
        "for t in range(trainPart):\n",
        "    X_train[t, :, :] = X[t:t+T]\n",
        "    y_train[t] = y[t+T]\n"
      ]
    },
    {
      "cell_type": "code",
      "execution_count": null,
      "metadata": {
        "colab": {
          "base_uri": "https://localhost:8080/"
        },
        "id": "zmgMDsEz7N4r",
        "outputId": "69a3cbd2-9e49-437d-ee96-8b5cd3b56cc5"
      },
      "outputs": [
        {
          "output_type": "stream",
          "name": "stdout",
          "text": [
            "X_train - Before: 0.9085163474082947 GB float16\n"
          ]
        }
      ],
      "source": [
        "print('X_train - Before: {} GB'.format(X_train.nbytes/1024**3), X_train.dtype)"
      ]
    },
    {
      "cell_type": "code",
      "execution_count": null,
      "metadata": {
        "colab": {
          "base_uri": "https://localhost:8080/"
        },
        "id": "90Iy9e2t7N4s",
        "outputId": "7f3fdcf6-ca4f-4760-cb23-faecddf503b5"
      },
      "outputs": [
        {
          "output_type": "stream",
          "name": "stdout",
          "text": [
            "y_train - Before: 0.00022712908685207367 GB float16\n"
          ]
        }
      ],
      "source": [
        "print('y_train - Before: {} GB'.format(y_train.nbytes/1024**3), y_train.dtype)"
      ]
    },
    {
      "cell_type": "code",
      "execution_count": null,
      "metadata": {
        "colab": {
          "base_uri": "https://localhost:8080/"
        },
        "id": "WkMVN4T87N4s",
        "outputId": "4cf72213-b0f4-4872-ef0f-1f820355118b"
      },
      "outputs": [
        {
          "output_type": "stream",
          "name": "stdout",
          "text": [
            "X_test - Before: 0.3886297345161438 GB float16\n",
            "y_test - Before: 9.715743362903595e-05 GB float16\n"
          ]
        }
      ],
      "source": [
        "X_test = np.zeros((N - trainPart, T, D), dtype='float16')\n",
        "y_test = np.zeros(N - trainPart, dtype='float16')\n",
        "\n",
        "#Preparing the time series data using timestep of 100 and no of features = 40\n",
        "for k in range(N - trainPart):\n",
        "    t = k + trainPart\n",
        "    X_test[k, :, :] = X[t:t+T]\n",
        "    y_test[k] = y[t+T]\n",
        "\n",
        "print('X_test - Before: {} GB'.format(X_test.nbytes/1024**3), X_test.dtype)\n",
        "print('y_test - Before: {} GB'.format(y_test.nbytes/1024**3), y_test.dtype)"
      ]
    },
    {
      "cell_type": "code",
      "execution_count": null,
      "metadata": {
        "colab": {
          "base_uri": "https://localhost:8080/"
        },
        "id": "7HzuUNtL7N4s",
        "outputId": "e382cc25-4139-441f-b98e-eb2f9de65143"
      },
      "outputs": [
        {
          "output_type": "stream",
          "name": "stdout",
          "text": [
            "2.15.0\n"
          ]
        }
      ],
      "source": [
        "import tensorflow as tf\n",
        "print(tf.__version__)"
      ]
    },
    {
      "cell_type": "code",
      "execution_count": null,
      "metadata": {
        "id": "ekY-WnFH7N4s"
      },
      "outputs": [],
      "source": [
        "from tensorflow.keras.layers import Input, Conv1D, Conv2D, Flatten, MaxPooling1D, MaxPooling2D, Dense, LeakyReLU, Bidirectional\n",
        "from tensorflow.keras.models import Model\n",
        "from tensorflow.keras.optimizers import SGD, Adam\n",
        "from tensorflow.compat.v1.keras.layers import CuDNNLSTM"
      ]
    },
    {
      "cell_type": "code",
      "execution_count": null,
      "metadata": {
        "id": "HW89BkEz7N4s"
      },
      "outputs": [],
      "source": [
        "X_train = np.expand_dims(X_train, -1)\n",
        "X_test = np.expand_dims(X_test, -1)"
      ]
    },
    {
      "cell_type": "code",
      "execution_count": null,
      "metadata": {
        "id": "QTnQc0iWjScn"
      },
      "outputs": [],
      "source": [
        "i = Input(shape=X_train[0].shape)\n",
        "x = Conv2D(16, (4,D), activation=LeakyReLU(alpha=0.01))(i)\n",
        "x = tf.keras.layers.Reshape(target_shape=(T-3,16))(x)\n",
        "x = Conv1D(16, 4, activation=LeakyReLU(alpha=0.01))(x)\n",
        "x = tf.keras.layers.BatchNormalization()(x)\n",
        "x = MaxPooling1D(2)(x)\n",
        "x = Conv1D(32, 3, activation=LeakyReLU(alpha=0.01))(x)\n",
        "x = tf.keras.layers.BatchNormalization()(x)\n",
        "x = MaxPooling1D(2)(x)\n",
        "x = Bidirectional(CuDNNLSTM(64, return_sequences = False))(x)\n",
        "x = Dense(32, activation=LeakyReLU(alpha=0.01))(x)\n",
        "x = Dense(32, activation=LeakyReLU(alpha=0.01))(x)\n",
        "x = Dense(3, activation='softmax')(x)\n",
        "\n",
        "model = Model(i,x)"
      ]
    },
    {
      "cell_type": "code",
      "execution_count": null,
      "metadata": {
        "colab": {
          "base_uri": "https://localhost:8080/"
        },
        "id": "4h7no4Cy7N4s",
        "outputId": "27a477a5-f811-4e9b-9dd8-477afa99f070"
      },
      "outputs": [
        {
          "output_type": "stream",
          "name": "stdout",
          "text": [
            "Model: \"model_4\"\n",
            "_________________________________________________________________\n",
            " Layer (type)                Output Shape              Param #   \n",
            "=================================================================\n",
            " input_5 (InputLayer)        [(None, 100, 40, 1)]      0         \n",
            "                                                                 \n",
            " conv2d_4 (Conv2D)           (None, 97, 1, 16)         2576      \n",
            "                                                                 \n",
            " reshape_4 (Reshape)         (None, 97, 16)            0         \n",
            "                                                                 \n",
            " conv1d_8 (Conv1D)           (None, 94, 16)            1040      \n",
            "                                                                 \n",
            " batch_normalization_8 (Bat  (None, 94, 16)            64        \n",
            " chNormalization)                                                \n",
            "                                                                 \n",
            " max_pooling1d_8 (MaxPoolin  (None, 47, 16)            0         \n",
            " g1D)                                                            \n",
            "                                                                 \n",
            " conv1d_9 (Conv1D)           (None, 45, 32)            1568      \n",
            "                                                                 \n",
            " batch_normalization_9 (Bat  (None, 45, 32)            128       \n",
            " chNormalization)                                                \n",
            "                                                                 \n",
            " max_pooling1d_9 (MaxPoolin  (None, 22, 32)            0         \n",
            " g1D)                                                            \n",
            "                                                                 \n",
            " bidirectional_4 (Bidirecti  (None, 128)               50176     \n",
            " onal)                                                           \n",
            "                                                                 \n",
            " dense_12 (Dense)            (None, 32)                4128      \n",
            "                                                                 \n",
            " dense_13 (Dense)            (None, 32)                1056      \n",
            "                                                                 \n",
            " dense_14 (Dense)            (None, 3)                 99        \n",
            "                                                                 \n",
            "=================================================================\n",
            "Total params: 60835 (237.64 KB)\n",
            "Trainable params: 60739 (237.26 KB)\n",
            "Non-trainable params: 96 (384.00 Byte)\n",
            "_________________________________________________________________\n"
          ]
        }
      ],
      "source": [
        "model.summary()"
      ]
    },
    {
      "cell_type": "code",
      "execution_count": null,
      "metadata": {
        "colab": {
          "base_uri": "https://localhost:8080/"
        },
        "id": "cPa5icVZxW5B",
        "outputId": "7fd69139-9248-46a5-89bd-1bfe066f2a7d"
      },
      "outputs": [
        {
          "output_type": "stream",
          "name": "stderr",
          "text": [
            "WARNING:tensorflow:TPU system local has already been initialized. Reinitializing the TPU can cause previously created variables on TPU to be lost.\n"
          ]
        },
        {
          "output_type": "stream",
          "name": "stdout",
          "text": [
            "Running on TPU  \n",
            "REPLICAS:  8\n",
            "Model: \"model_5\"\n",
            "_________________________________________________________________\n",
            " Layer (type)                Output Shape              Param #   \n",
            "=================================================================\n",
            " input_6 (InputLayer)        [(None, 100, 40, 1)]      0         \n",
            "                                                                 \n",
            " conv2d_5 (Conv2D)           (None, 97, 1, 16)         2576      \n",
            "                                                                 \n",
            " reshape_5 (Reshape)         (None, 97, 16)            0         \n",
            "                                                                 \n",
            " conv1d_10 (Conv1D)          (None, 94, 16)            1040      \n",
            "                                                                 \n",
            " batch_normalization_10 (Ba  (None, 94, 16)            64        \n",
            " tchNormalization)                                               \n",
            "                                                                 \n",
            " max_pooling1d_10 (MaxPooli  (None, 47, 16)            0         \n",
            " ng1D)                                                           \n",
            "                                                                 \n",
            " conv1d_11 (Conv1D)          (None, 46, 32)            1056      \n",
            "                                                                 \n",
            " batch_normalization_11 (Ba  (None, 46, 32)            128       \n",
            " tchNormalization)                                               \n",
            "                                                                 \n",
            " max_pooling1d_11 (MaxPooli  (None, 23, 32)            0         \n",
            " ng1D)                                                           \n",
            "                                                                 \n",
            " bidirectional_5 (Bidirecti  (None, 128)               49664     \n",
            " onal)                                                           \n",
            "                                                                 \n",
            " dense_15 (Dense)            (None, 32)                4128      \n",
            "                                                                 \n",
            " dense_16 (Dense)            (None, 32)                1056      \n",
            "                                                                 \n",
            " dense_17 (Dense)            (None, 3)                 99        \n",
            "                                                                 \n",
            "=================================================================\n",
            "Total params: 59811 (233.64 KB)\n",
            "Trainable params: 59715 (233.26 KB)\n",
            "Non-trainable params: 96 (384.00 Byte)\n",
            "_________________________________________________________________\n",
            "Epoch 1/4\n",
            "3049/3049 [==============================] - 66s 19ms/step - loss: 0.6649 - accuracy: 0.6922 - val_loss: 0.6325 - val_accuracy: 0.7149\n",
            "Epoch 2/4\n",
            "3049/3049 [==============================] - 51s 17ms/step - loss: 0.6123 - accuracy: 0.7203 - val_loss: 0.6305 - val_accuracy: 0.7049\n",
            "Epoch 3/4\n",
            "3049/3049 [==============================] - 51s 17ms/step - loss: 0.5955 - accuracy: 0.7306 - val_loss: 0.6281 - val_accuracy: 0.7007\n",
            "Epoch 4/4\n",
            "3049/3049 [==============================] - 50s 17ms/step - loss: 0.5643 - accuracy: 0.7458 - val_loss: 0.6224 - val_accuracy: 0.7203\n"
          ]
        }
      ],
      "source": [
        "import tensorflow as tf\n",
        "from tensorflow.keras.models import Model\n",
        "from tensorflow.keras.layers import Input, Conv2D, LeakyReLU, Reshape, Conv1D, BatchNormalization, MaxPooling1D, Bidirectional, LSTM, Dense\n",
        "\n",
        "\n",
        "\n",
        "# データの形状を取得\n",
        "input_shape = X_train[0].shape\n",
        "T = input_shape[0]  # 時間ステップの数\n",
        "D = input_shape[1]  # 特徴量の数\n",
        "C = input_shape[2]  # チャネルの数\n",
        "\n",
        "# TPU 構成\n",
        "try:\n",
        "    tpu = tf.distribute.cluster_resolver.TPUClusterResolver()  # TPU detection\n",
        "    print('Running on TPU ', tpu.master())\n",
        "except ValueError:\n",
        "    tpu = None\n",
        "\n",
        "if tpu:\n",
        "    tf.config.experimental_connect_to_cluster(tpu)\n",
        "    tf.tpu.experimental.initialize_tpu_system(tpu)\n",
        "    strategy = tf.distribute.TPUStrategy(tpu)  # Use the non-experimental symbol\n",
        "else:\n",
        "    strategy = tf.distribute.get_strategy()  # default strategy that works on CPU and single GPU\n",
        "print(\"REPLICAS: \", strategy.num_replicas_in_sync)\n",
        "\n",
        "# モデルの定義\n",
        "with strategy.scope():\n",
        "    i = Input(shape=input_shape)\n",
        "    x = Conv2D(16, (4, D), activation=LeakyReLU(alpha=0.01))(i)\n",
        "    x = tf.keras.layers.Reshape(target_shape=(T-3, 16))(x)\n",
        "    x = Conv1D(16, 4, activation=LeakyReLU(alpha=0.01))(x)\n",
        "    x = tf.keras.layers.BatchNormalization()(x)\n",
        "    x = MaxPooling1D(2)(x)\n",
        "    x = Conv1D(32, 2, activation=LeakyReLU(alpha=0.01))(x)\n",
        "    x = tf.keras.layers.BatchNormalization()(x)\n",
        "    x = MaxPooling1D(2)(x)\n",
        "    x = Bidirectional(LSTM(64, return_sequences=False))(x)  # CuDNNLSTMをLSTMに変更\n",
        "    x = Dense(32, activation=LeakyReLU(alpha=0.01))(x)\n",
        "    x = Dense(32, activation=LeakyReLU(alpha=0.01))(x)\n",
        "    x = Dense(3, activation='softmax')(x)\n",
        "\n",
        "    model = Model(i, x)\n",
        "    model.compile(optimizer='adam', loss='sparse_categorical_crossentropy', metrics=['accuracy'])\n",
        "\n",
        "# モデルの概要を表示\n",
        "model.summary()\n",
        "\n",
        "# トレーニング\n",
        "EPOCHS = 4\n",
        "BATCH_SIZE = 32\n",
        "\n",
        "r = model.fit(\n",
        "    X_train, y_train,\n",
        "    batch_size=BATCH_SIZE,\n",
        "    epochs=EPOCHS,\n",
        "    validation_split=0.2\n",
        ")\n"
      ]
    },
    {
      "cell_type": "code",
      "execution_count": null,
      "metadata": {
        "id": "d-_94-ToS9Np",
        "colab": {
          "base_uri": "https://localhost:8080/"
        },
        "outputId": "0a1036a7-8c8d-4e9b-f281-290e94b9ccfb"
      },
      "outputs": [
        {
          "output_type": "stream",
          "name": "stdout",
          "text": [
            "X_train shape: (121939, 100, 40, 1)\n"
          ]
        }
      ],
      "source": [
        "print(\"X_train shape:\", X_train.shape)"
      ]
    },
    {
      "cell_type": "code",
      "execution_count": null,
      "metadata": {
        "id": "k9-5IJMO7N4s",
        "scrolled": true,
        "colab": {
          "base_uri": "https://localhost:8080/",
          "height": 490
        },
        "outputId": "e5472d12-c409-4a93-ed9b-e8232e8de16c"
      },
      "outputs": [
        {
          "output_type": "execute_result",
          "data": {
            "text/plain": [
              "<matplotlib.legend.Legend at 0x7c7137a48f40>"
            ]
          },
          "metadata": {},
          "execution_count": 92
        },
        {
          "output_type": "display_data",
          "data": {
            "text/plain": [
              "<Figure size 640x480 with 1 Axes>"
            ],
            "image/png": "[encoded data removed]"
          },
          "metadata": {}
        }
      ],
      "source": [
        "sns.lineplot(x=range(1,EPOCHS+1),y=r.history['loss'])\n",
        "sns.lineplot(x=range(1,EPOCHS+1),y=r.history['val_loss'])\n",
        "plt.title('Model Cross Entropy Loss')\n",
        "plt.ylabel('Cross Entropy Loss')\n",
        "plt.xlabel('Epochs')\n",
        "plt.legend(['Training', 'Testing'], loc='upper left')"
      ]
    },
    {
      "cell_type": "code",
      "execution_count": null,
      "metadata": {
        "id": "Q2VERGx87N4s",
        "colab": {
          "base_uri": "https://localhost:8080/"
        },
        "outputId": "75926948-8ce1-4489-a4c3-c1a190a30aa5"
      },
      "outputs": [
        {
          "output_type": "stream",
          "name": "stdout",
          "text": [
            "1631/1631 [==============================] - 18s 10ms/step\n"
          ]
        }
      ],
      "source": [
        "y_pred = model.predict(X_test).argmax(axis=1)"
      ]
    },
    {
      "cell_type": "code",
      "execution_count": null,
      "metadata": {
        "id": "6Bh4zXVn7N4t",
        "colab": {
          "base_uri": "https://localhost:8080/",
          "height": 430
        },
        "outputId": "3e698298-deb2-4825-f84b-5406c697d175"
      },
      "outputs": [
        {
          "output_type": "display_data",
          "data": {
            "text/plain": [
              "<Figure size 640x480 with 2 Axes>"
            ],
            "image/png": "[encoded data removed]"
          },
          "metadata": {}
        }
      ],
      "source": [
        "from sklearn.metrics import confusion_matrix\n",
        "\n",
        "cm = confusion_matrix(y_pred=y_pred, y_true=y_test)\n",
        "\n",
        "cm = cm.astype('float') / cm.sum(axis=1)[:, np.newaxis]\n",
        "\n",
        "ax=sns.heatmap(cm, annot=True, xticklabels=[0,1,2], yticklabels=[0,1,2], cmap='Blues')\n",
        "ax.set_ylim(3.0, 0)\n",
        "plt.show()"
      ]
    },
    {
      "cell_type": "code",
      "execution_count": null,
      "metadata": {
        "id": "LS5JktPk7N4t",
        "colab": {
          "base_uri": "https://localhost:8080/"
        },
        "outputId": "1f247416-81b4-4a6b-efb4-15e02dbb7604"
      },
      "outputs": [
        {
          "output_type": "stream",
          "name": "stdout",
          "text": [
            "              precision    recall  f1-score   support\n",
            "\n",
            "         0.0       0.73      0.82      0.77     26034\n",
            "         1.0       0.59      0.61      0.60      8824\n",
            "         2.0       0.62      0.51      0.56     17303\n",
            "\n",
            "    accuracy                           0.68     52161\n",
            "   macro avg       0.65      0.64      0.64     52161\n",
            "weighted avg       0.67      0.68      0.67     52161\n",
            "\n"
          ]
        }
      ],
      "source": [
        "print(classification_report(y_test,y_pred))"
      ]
    },
    {
      "cell_type": "code",
      "execution_count": null,
      "metadata": {
        "colab": {
          "base_uri": "https://localhost:8080/",
          "height": 430
        },
        "id": "IMEa5LDDADlG",
        "outputId": "673801f1-5b48-4dd5-c47d-ec79ea989b03"
      },
      "outputs": [
        {
          "output_type": "display_data",
          "data": {
            "text/plain": [
              "<Figure size 640x480 with 2 Axes>"
            ],
            "image/png": "[encoded data removed]"
          },
          "metadata": {}
        }
      ],
      "source": [
        "from sklearn.metrics import confusion_matrix\n",
        "\n",
        "cm = confusion_matrix(y_pred=y_pred, y_true=y_test)\n",
        "\n",
        "cm = cm.astype('float') / cm.sum(axis=1)[:, np.newaxis]\n",
        "\n",
        "ax=sns.heatmap(cm, annot=True, xticklabels=[0,1,2], yticklabels=[0,1,2], cmap='Blues')\n",
        "ax.set_ylim(3.0, 0)\n",
        "plt.show()"
      ]
    },
    {
      "cell_type": "code",
      "source": [],
      "metadata": {
        "id": "D-WNiCQrSuHO"
      },
      "execution_count": null,
      "outputs": []
    }
  ],
  "metadata": {
    "accelerator": "TPU",
    "colab": {
      "gpuType": "V28",
      "machine_shape": "hm",
      "provenance": [],
      "include_colab_link": true
    },
    "kernelspec": {
      "display_name": "Python 3",
      "name": "python3"
    },
    "language_info": {
      "codemirror_mode": {
        "name": "ipython",
        "version": 3
      },
      "file_extension": ".py",
      "mimetype": "text/x-python",
      "name": "python",
      "nbconvert_exporter": "python",
      "pygments_lexer": "ipython3",
      "version": "3.5.3"
    }
  },
  "nbformat": 4,
  "nbformat_minor": 0
}